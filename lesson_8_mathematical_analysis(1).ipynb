{
 "cells": [
  {
   "cell_type": "markdown",
   "metadata": {},
   "source": [
    "## Тема «Производные функций нескольких переменных»"
   ]
  },
  {
   "cell_type": "markdown",
   "metadata": {},
   "source": [
    "### Найти область определения функции"
   ]
  },
  {
   "cell_type": "markdown",
   "metadata": {},
   "source": [
    "$$ z = \\sqrt{1-x^{3}} + ln(y^{2}-1) $$"
   ]
  },
  {
   "cell_type": "markdown",
   "metadata": {},
   "source": [
    "$$  \\begin{cases}1-x^{3} \\geqslant 0\\\\y^{2}-1 > 0\\end{cases} $$"
   ]
  },
  {
   "cell_type": "markdown",
   "metadata": {},
   "source": [
    "$$ \\begin{cases}x^{3} \\leqslant 1\\\\(y-1)(y+2) > 0\\end{cases}  $$"
   ]
  },
  {
   "cell_type": "markdown",
   "metadata": {},
   "source": [
    "$$ \\begin{cases}x \\leqslant 1\\\\y<-1,y>1 \\end{cases} $$"
   ]
  },
  {
   "cell_type": "markdown",
   "metadata": {},
   "source": [
    "### Найти производные 1-го порядка функции"
   ]
  },
  {
   "cell_type": "markdown",
   "metadata": {},
   "source": [
    "$$ z = (1 + \\frac{lnx}{lny})^{3} $$"
   ]
  },
  {
   "cell_type": "markdown",
   "metadata": {},
   "source": [
    "$$ z'x = 3(1 + \\frac{lnx}{lny})^{2} * \\frac{1}{lny} * \\frac{1}{x} = \\frac{3}{x*lny} * (1 + \\frac{lnx}{lny})^{2} $$"
   ]
  },
  {
   "cell_type": "markdown",
   "metadata": {},
   "source": [
    "$$ z'y = 3(1+\\frac{lnx}{lny})^{2} * lnx * (\\frac{1}{lny})' = $$"
   ]
  },
  {
   "cell_type": "markdown",
   "metadata": {},
   "source": [
    "$$ 3(1+\\frac{lnx}{lny})^{2} * lnx * ((ln)^{-1})'= $$"
   ]
  },
  {
   "cell_type": "markdown",
   "metadata": {},
   "source": [
    "$$ 3(1+\\frac{lnx}{lny})^{2} * lnx * \\frac{-1}{ln^{2}y} * \\frac{1}{y} = - \\frac{3lnx}{y*ln^{2}y} * (1+\\frac{lnx}{lny})^{2} $$"
   ]
  },
  {
   "cell_type": "markdown",
   "metadata": {},
   "source": [
    "### Найти полный дифференциал функции в точке (1;1)"
   ]
  },
  {
   "cell_type": "markdown",
   "metadata": {},
   "source": [
    "Общая формула"
   ]
  },
  {
   "cell_type": "markdown",
   "metadata": {},
   "source": [
    "$$ dz = z'x * dx +z'y * dy $$"
   ]
  },
  {
   "cell_type": "markdown",
   "metadata": {},
   "source": [
    "$$ z = \\sqrt{2xy + cos\\frac{x}{y}} = (2xy + cos\\frac{x}{y})^{\\frac{1}{2}} $$"
   ]
  },
  {
   "cell_type": "markdown",
   "metadata": {},
   "source": [
    "Производная x"
   ]
  },
  {
   "cell_type": "markdown",
   "metadata": {},
   "source": [
    "$$ z'x = \\frac{1}{2\\sqrt{2xy + cos\\frac{x}{y}}} * (2xy + cos\\frac{x}{y})'x = $$"
   ]
  },
  {
   "cell_type": "markdown",
   "metadata": {},
   "source": [
    "$$ \\frac{1}{2\\sqrt{2xy + cos\\frac{x}{y}}} * (2y - (sin\\frac{x}{y})* \\frac{1}{y}) $$"
   ]
  },
  {
   "cell_type": "markdown",
   "metadata": {},
   "source": [
    "Производная y"
   ]
  },
  {
   "cell_type": "markdown",
   "metadata": {},
   "source": [
    "$$ z'y = \\frac{1}{2\\sqrt{2xy + cos\\frac{x}{y}}} * (2xy + cos\\frac{x}{y})'y = $$ "
   ]
  },
  {
   "cell_type": "markdown",
   "metadata": {},
   "source": [
    "$$ \\frac{1}{2\\sqrt{2xy + cos\\frac{x}{y}}} * (2x - (sin\\frac{x}{y}) * x(- \\frac{1}{y^{2}} = $$"
   ]
  },
  {
   "cell_type": "markdown",
   "metadata": {},
   "source": [
    "$$ x * \\frac{(2 + \\frac{sin\\frac{x}{y}}{y^{2}})}{2\\sqrt{2xy+cos\\frac{x}{y}}} $$"
   ]
  },
  {
   "cell_type": "markdown",
   "metadata": {},
   "source": [
    "$$ z'x (1;1) = \\frac{1}{2\\sqrt{2+cos1}} * (2-sin1) $$"
   ]
  },
  {
   "cell_type": "markdown",
   "metadata": {},
   "source": [
    "Подставим точки в функцию"
   ]
  },
  {
   "cell_type": "markdown",
   "metadata": {},
   "source": [
    "$$ z'y (1;1) = \\frac{2+sin1}{2\\sqrt{2+cos1}} $$"
   ]
  },
  {
   "cell_type": "markdown",
   "metadata": {},
   "source": [
    "$$ dz = \\frac{2-sin1}{2\\sqrt{2+cos1}}~dx~+~\\frac{2+sin1}{2\\sqrt{2+cos1}}~dy $$"
   ]
  },
  {
   "cell_type": "markdown",
   "metadata": {},
   "source": [
    "$$ sin1 = 0,841;~~cos1 = 0,540 $$"
   ]
  },
  {
   "cell_type": "markdown",
   "metadata": {},
   "source": [
    "$$ \\frac{1,159}{3,187}dx~+~\\frac{2,841}{3,187}dy = $$"
   ]
  },
  {
   "cell_type": "markdown",
   "metadata": {},
   "source": [
    "$$ dz(1;1) = 0,364~dx + 0,891~dy $$"
   ]
  },
  {
   "cell_type": "markdown",
   "metadata": {},
   "source": [
    "### Исследовать на экстремум функцию"
   ]
  },
  {
   "cell_type": "markdown",
   "metadata": {},
   "source": [
    "$$ z = x^{2} + xy + y^{2} - 6x - 9y $$"
   ]
  },
  {
   "cell_type": "markdown",
   "metadata": {},
   "source": [
    "Решим систему уравнений"
   ]
  },
  {
   "cell_type": "markdown",
   "metadata": {},
   "source": [
    "$$ \\begin{cases}z'x=2x+y-6 = 0\\\\z'y=x+2y-9 = 0\\end{cases} $$"
   ]
  },
  {
   "cell_type": "markdown",
   "metadata": {},
   "source": [
    "$$ \\begin{cases}y = 4\\\\x = 1\\end{cases}~~~ (1;4) $$"
   ]
  },
  {
   "cell_type": "markdown",
   "metadata": {},
   "source": [
    "$$ z''xx = 2;~~~z''xy = 1;~~~z''yy = 2 $$"
   ]
  },
  {
   "cell_type": "markdown",
   "metadata": {},
   "source": [
    "Подставим значения в матрицу"
   ]
  },
  {
   "cell_type": "markdown",
   "metadata": {},
   "source": [
    "$$ \\begin{bmatrix}z''xx & z''xy \\\\z''yx & z''yy \\end{bmatrix}  $$"
   ]
  },
  {
   "cell_type": "markdown",
   "metadata": {},
   "source": [
    "$$ \\begin{bmatrix}2 & 1 \\\\1 & 2 \\end{bmatrix}~= 4-1~>~0~>min~~(1;4)  $$"
   ]
  },
  {
   "cell_type": "markdown",
   "metadata": {},
   "source": [
    "$$ (1;4) = 1^{2}+1*4+4^{2}-6*1-9*4 = -21 $$"
   ]
  }
 ],
 "metadata": {
  "kernelspec": {
   "display_name": "Python 3",
   "language": "python",
   "name": "python3"
  },
  "language_info": {
   "codemirror_mode": {
    "name": "ipython",
    "version": 3
   },
   "file_extension": ".py",
   "mimetype": "text/x-python",
   "name": "python",
   "nbconvert_exporter": "python",
   "pygments_lexer": "ipython3",
   "version": "3.7.6"
  }
 },
 "nbformat": 4,
 "nbformat_minor": 4
}
