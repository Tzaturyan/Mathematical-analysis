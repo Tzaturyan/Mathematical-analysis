{
 "cells": [
  {
   "cell_type": "markdown",
   "metadata": {},
   "source": [
    "## Тема “Функция нескольких переменных” Часть 2"
   ]
  },
  {
   "cell_type": "markdown",
   "metadata": {},
   "source": [
    "### Исследовать функцию на условный экстремум"
   ]
  },
  {
   "cell_type": "markdown",
   "metadata": {},
   "source": [
    "$$ 3 - 8x +6y~,~~x^{2}+y^{2}=36 $$"
   ]
  },
  {
   "cell_type": "markdown",
   "metadata": {},
   "source": [
    "$$ Обозначив~ F(x,y) = x^{2}+y^{2}-36,~ составим~ функцию~Лагранжа $$"
   ]
  },
  {
   "cell_type": "markdown",
   "metadata": {},
   "source": [
    "$$ F(\\lambda_{1},x,y) = 3-8x+6y+\\lambda_{1} * (x^{2}+y^{2}-36) $$ $$ \\Rightarrow $$"
   ]
  },
  {
   "cell_type": "markdown",
   "metadata": {},
   "source": [
    "Запишем систему уравнений"
   ]
  },
  {
   "cell_type": "markdown",
   "metadata": {},
   "source": [
    "$$ \\begin{cases}F'(x)=-8+\\lambda_{1}*2x=0\\\\F'(y)=6+\\lambda_{1}*2y=0\\\\F'(\\lambda)=x^{2}+y^{2}-36=0\\end{cases} $$"
   ]
  },
  {
   "cell_type": "markdown",
   "metadata": {},
   "source": [
    "$$ \\begin{cases}x=\\frac{8}{\\lambda_{1}2}=\\frac{4}{\\lambda_{1}}\\\\y=\\frac{6}{\\lambda_{1}2}=\\frac{-3}{\\lambda_{1}}\\\\\\lambda_{1}^{2}=\\frac{16}{\\lambda_{1}^{2}}+\\frac{9}{\\lambda_{1}^{2}}=\\frac{25}{36}\\end{cases} $$"
   ]
  },
  {
   "cell_type": "markdown",
   "metadata": {},
   "source": [
    "Система имеет два решения"
   ]
  },
  {
   "cell_type": "markdown",
   "metadata": {},
   "source": [
    "$$ \\left(\\frac{5}{6},\\frac{24}{5},-\\frac{18}{5}\\right) $$ $$ \\left(-\\frac{5}{6},-\\frac{24}{5},\\frac{18}{5}\\right) $$"
   ]
  },
  {
   "cell_type": "markdown",
   "metadata": {},
   "source": [
    "Исследуем на экстремум"
   ]
  },
  {
   "cell_type": "markdown",
   "metadata": {},
   "source": [
    "Производные первого порядка"
   ]
  },
  {
   "cell_type": "markdown",
   "metadata": {},
   "source": [
    "$$ F'(x)=-8+\\lambda_{1}*2x $$ $$ F'(y)=6+\\lambda_{1}*2y $$ $$ F'(\\lambda)=x^{2}+y^{2}-36 $$"
   ]
  },
  {
   "cell_type": "markdown",
   "metadata": {},
   "source": [
    "Производные второго порядка"
   ]
  },
  {
   "cell_type": "markdown",
   "metadata": {},
   "source": [
    "$$ F''xx = 2\\lambda_{1,}~~~F''yy=2\\lambda_{1},~~~F''\\lambda_{1}\\lambda_{1}=0,~~~F''xy=0,~~~F''x\\lambda_{1}=2x,~~~F''y\\lambda_{1}=2y $$"
   ]
  },
  {
   "cell_type": "markdown",
   "metadata": {},
   "source": [
    "Запишем матрицу и найдем определитель"
   ]
  },
  {
   "cell_type": "markdown",
   "metadata": {},
   "source": [
    "$$ \\begin{bmatrix}0 & 2x & 2y \\\\2x & 2\\lambda_{1} & 0\\\\ 2y & 0 & 2\\lambda_{1}\\end{bmatrix}~~= $$"
   ]
  },
  {
   "cell_type": "markdown",
   "metadata": {},
   "source": [
    "$$ 0 * \\begin{bmatrix}2\\lambda_{1} & 0 \\\\0 & 2\\lambda_{1} \\end{bmatrix} - 2x \\begin{bmatrix}2x & 0 \\\\2y & 2\\lambda_{1} \\end{bmatrix} + 2y \\begin{bmatrix}2x & 2\\lambda_{1} \\\\2y & 0 \\end{bmatrix} $$"
   ]
  },
  {
   "cell_type": "markdown",
   "metadata": {},
   "source": [
    "$$ 0 - 2x * (2x*2\\lambda_{1}-0) + 2y * (0-2y *2\\lambda_{1}) = -8x^{2}\\lambda_{1} - 8y^{2}\\lambda_{1} = -8\\lambda_{1}(x^{2} + y^{2}) $$"
   ]
  },
  {
   "cell_type": "markdown",
   "metadata": {},
   "source": [
    "$$ \\left(\\frac{5}{6},\\frac{24}{5},-\\frac{18}{5}\\right)~~-условный~ минимум~ функции~ $$"
   ]
  },
  {
   "cell_type": "markdown",
   "metadata": {},
   "source": [
    "$$ \\left(-\\frac{5}{6},-\\frac{24}{5},\\frac{18}{5}\\right)~~-условный~ максимум~ функции $$"
   ]
  },
  {
   "cell_type": "markdown",
   "metadata": {},
   "source": [
    "### Исследовать функцию на условный экстремум"
   ]
  },
  {
   "cell_type": "markdown",
   "metadata": {},
   "source": [
    "$$ 2x^{2} + 12xy + 32y^{2} + 15~,~~x^{2}+16y^{2}=64 $$"
   ]
  },
  {
   "cell_type": "code",
   "execution_count": 6,
   "metadata": {},
   "outputs": [],
   "source": [
    "from sympy import *\n",
    "x,y,w=symbols('x y w' )"
   ]
  },
  {
   "cell_type": "code",
   "execution_count": 55,
   "metadata": {},
   "outputs": [
    {
     "name": "stdout",
     "output_type": "stream",
     "text": [
      "Анализируемая функция f  для переменных x,y :\n",
      " f=  2*x**2 + 12*x*y + 32*y**2 + 15\n",
      "Ограничения:  x**2 + 16*y**2 - 64 =0\n",
      "Вспомогательная функция Лагранжа :\n",
      "  w*(x**2 + 16*y**2 - 64) + 2*x**2 + 12*x*y + 32*y**2 + 15\n",
      "df/dx = 2*w*x + 4*x + 12*y =0\n",
      "df/dy = 32*w*y + 12*x + 64*y =0\n",
      "df/dw = x**2 + 16*y**2 - 64 =0\n"
     ]
    },
    {
     "data": {
      "text/plain": [
       "[(-4*sqrt(2), -sqrt(2), -7/2),\n",
       " (-4*sqrt(2), sqrt(2), -1/2),\n",
       " (4*sqrt(2), -sqrt(2), -1/2),\n",
       " (4*sqrt(2), sqrt(2), -7/2)]"
      ]
     },
     "execution_count": 55,
     "metadata": {},
     "output_type": "execute_result"
    }
   ],
   "source": [
    "g = 2*x**2 + 12*x*y + 32*y**2 + 15\n",
    "print('Анализируемая функция f  для переменных x,y :\\n f= ', g)\n",
    "q= x**2 + 16*y**2 - 64\n",
    "print('Ограничения: ', q,'=0')\n",
    "f= 2*x**2 + 12*x*y + 32*y**2 + 15+w*(x**2 + 16*y**2 - 64)\n",
    "print('Вспомогательная функция Лагранжа :\\n ',f)\n",
    "fx=f.diff(x)\n",
    "print('df/dx =',fx,'=0')\n",
    "fy=f.diff(y)\n",
    "print('df/dy =',fy,'=0')\n",
    "fw=f.diff(w)\n",
    "print('df/dw =',fw,'=0')\n",
    "sols=solve([fx,fy,fw],x,y,w)\n",
    "sols"
   ]
  },
  {
   "cell_type": "code",
   "execution_count": 59,
   "metadata": {},
   "outputs": [],
   "source": [
    "xx = fx.diff(x)"
   ]
  },
  {
   "cell_type": "code",
   "execution_count": 60,
   "metadata": {},
   "outputs": [],
   "source": [
    "yy = fy.diff(y)"
   ]
  },
  {
   "cell_type": "code",
   "execution_count": 62,
   "metadata": {},
   "outputs": [],
   "source": [
    "ww = fw.diff(w)"
   ]
  },
  {
   "cell_type": "markdown",
   "metadata": {},
   "source": [
    "Найдем смешанные производные второго порядка"
   ]
  },
  {
   "cell_type": "code",
   "execution_count": 73,
   "metadata": {},
   "outputs": [],
   "source": [
    "xy = 12"
   ]
  },
  {
   "cell_type": "code",
   "execution_count": 74,
   "metadata": {},
   "outputs": [],
   "source": [
    "xw = 2*x"
   ]
  },
  {
   "cell_type": "code",
   "execution_count": 75,
   "metadata": {},
   "outputs": [],
   "source": [
    "yw = 32*y"
   ]
  },
  {
   "cell_type": "code",
   "execution_count": 76,
   "metadata": {},
   "outputs": [
    {
     "name": "stdout",
     "output_type": "stream",
     "text": [
      "Производные воторого порядка:\n",
      " 2*w + 4 32*w + 64 0 12 2*x 32*y\n"
     ]
    }
   ],
   "source": [
    "print('Производные воторого порядка:\\n', xx, yy, ww, xy, xw, yw )"
   ]
  },
  {
   "cell_type": "markdown",
   "metadata": {},
   "source": [
    "Построим матрицу из производных"
   ]
  },
  {
   "cell_type": "code",
   "execution_count": 89,
   "metadata": {},
   "outputs": [
    {
     "data": {
      "text/latex": [
       "$\\displaystyle \\left[\\begin{matrix}0 & 2 x & 32 y\\\\2 x & 2 w + 4 & 12\\\\32 y & 12 & 32 w + 64\\end{matrix}\\right]$"
      ],
      "text/plain": [
       "Matrix([\n",
       "[   0,     2*x,      32*y],\n",
       "[ 2*x, 2*w + 4,        12],\n",
       "[32*y,      12, 32*w + 64]])"
      ]
     },
     "execution_count": 89,
     "metadata": {},
     "output_type": "execute_result"
    }
   ],
   "source": [
    "M = Matrix([[0, 2*x, 32*y], [2*x, 4+2*w, 12], [32*y, 12, 64+32*w]])\n",
    "M"
   ]
  },
  {
   "cell_type": "markdown",
   "metadata": {},
   "source": [
    "Найдем определитель матрицы для каждой переменной"
   ]
  },
  {
   "cell_type": "markdown",
   "metadata": {},
   "source": [
    "$$ -2x * \\begin{bmatrix}2x & 12 \\\\32y & 64+32w \\end{bmatrix} + 32y \\begin{bmatrix}2x & 4+2w \\\\32y & 12 \\end{bmatrix}~= $$"
   ]
  },
  {
   "cell_type": "markdown",
   "metadata": {},
   "source": [
    "$$-2x*(128x + 64xw-384y) + 32y * (24x - 128y - 64yw) = 256 * 64 - 128w * 64 + 1536xy = -16384 - 8192w + 1536 xy $$"
   ]
  },
  {
   "cell_type": "markdown",
   "metadata": {},
   "source": [
    "Подставляем критические точки в получившееся уравнение и сравниваем с 0, а также на выполнение необходимых условий "
   ]
  },
  {
   "cell_type": "markdown",
   "metadata": {},
   "source": [
    "$$ \\left(-\\frac{7}{2},4\\sqrt{2},\\sqrt{2}\\right)~~-~ максимум~ функции~ $$"
   ]
  },
  {
   "cell_type": "markdown",
   "metadata": {},
   "source": [
    "$$ \\left(-\\frac{1}{2},4\\sqrt{2},-\\sqrt{2}\\right)~~-~ минимум~ функции~ $$"
   ]
  },
  {
   "cell_type": "markdown",
   "metadata": {},
   "source": [
    "$$ \\left(-\\frac{1}{2},-4\\sqrt{2},\\sqrt{2}\\right)~~-~ минимум~ функции~ $$"
   ]
  },
  {
   "cell_type": "markdown",
   "metadata": {},
   "source": [
    "$$ \\left(-\\frac{7}{2},-4\\sqrt{2},-\\sqrt{2}\\right)~~-~ максимум~ функции~ $$"
   ]
  },
  {
   "cell_type": "markdown",
   "metadata": {},
   "source": [
    "## Найти производную функции по направлению"
   ]
  },
  {
   "cell_type": "markdown",
   "metadata": {},
   "source": [
    "$$ U = x^{2} + y^{2} + z^{2}~~~по~ направлению~ вектора~ c(-9,8,-12)~ в~ точке~ M(8,-12,9) $$"
   ]
  },
  {
   "cell_type": "markdown",
   "metadata": {},
   "source": [
    "Найдем частные производные в точке M(8,-12,9)"
   ]
  },
  {
   "cell_type": "markdown",
   "metadata": {},
   "source": [
    "$$ \\left.\\frac{\\partial f}{\\partial x}\\right|(8,-12,9) = 2x = 16$$"
   ]
  },
  {
   "cell_type": "markdown",
   "metadata": {},
   "source": [
    "$$ \\left.\\frac{\\partial f}{\\partial y}\\right|(8,-12,9) = 2y = -24$$"
   ]
  },
  {
   "cell_type": "markdown",
   "metadata": {},
   "source": [
    "$$ \\left.\\frac{\\partial f}{\\partial z}\\right|(8,-12,9) = 2z = 18$$"
   ]
  },
  {
   "cell_type": "markdown",
   "metadata": {},
   "source": [
    "Найдем координаты направляющего вектора единичной длины"
   ]
  },
  {
   "cell_type": "markdown",
   "metadata": {},
   "source": [
    "$$ |\\vec{c}| = \\sqrt{9^{2}+8^{2}+12^{2}} = 17 $$"
   ]
  },
  {
   "cell_type": "markdown",
   "metadata": {},
   "source": [
    "$$ \\vec{c}_{0} = (-\\frac{9}{17}, \\frac{8}{17}, -\\frac{12}{17}) $$"
   ]
  },
  {
   "cell_type": "markdown",
   "metadata": {},
   "source": [
    "Вычисляем по формуле"
   ]
  },
  {
   "cell_type": "markdown",
   "metadata": {},
   "source": [
    "$$ \\frac{\\partial f}{\\partial i} = \\frac{\\partial f}{\\partial x} * cos_{1} +  \\frac{\\partial f}{\\partial y} * cos_{2} + \\frac{\\partial f}{\\partial z} * cos_{3} $$"
   ]
  },
  {
   "cell_type": "markdown",
   "metadata": {},
   "source": [
    "$$ \\left.\\frac{U'}{\\vec{c}}\\right|M = 16*(-\\frac{9}{17}) + (-24) * \\frac{8}{17} + 18 * (-\\frac{12}{17}) = -\\frac{552}{17} $$"
   ]
  },
  {
   "cell_type": "markdown",
   "metadata": {},
   "source": [
    "## Найти производную функции по направлению"
   ]
  },
  {
   "cell_type": "markdown",
   "metadata": {},
   "source": [
    "$$ U = e^{x^{2}+y^{2}+z^{2}}~~~по~ направлению~ вектора~ c(4,-13,-16)~ в~ точке~ M(-16,4,-13) $$"
   ]
  },
  {
   "cell_type": "markdown",
   "metadata": {},
   "source": [
    "Найдем частные производные в точке M(-16,4,-13)"
   ]
  },
  {
   "cell_type": "markdown",
   "metadata": {},
   "source": [
    "$$ \\left.\\frac{\\partial f}{\\partial x}\\right|(8,-12,9) = e^{x^{2}+y^{2}+z^{2}} * 2x $$"
   ]
  },
  {
   "cell_type": "markdown",
   "metadata": {},
   "source": [
    "$$ \\left.\\frac{\\partial f}{\\partial y}\\right|(8,-12,9) = e^{x^{2}+y^{2}+z^{2}} * 2y $$"
   ]
  },
  {
   "cell_type": "markdown",
   "metadata": {},
   "source": [
    "$$ \\left.\\frac{\\partial f}{\\partial z}\\right|(8,-12,9) = e^{x^{2}+y^{2}+z^{2}} * 2z $$"
   ]
  },
  {
   "cell_type": "markdown",
   "metadata": {},
   "source": [
    "Найдем координаты направляющего вектора единичной длины"
   ]
  },
  {
   "cell_type": "markdown",
   "metadata": {},
   "source": [
    "$$ |\\vec{c}| = \\sqrt{4^{2}+13^{2}+16^{2}} = 21 $$"
   ]
  },
  {
   "cell_type": "markdown",
   "metadata": {},
   "source": [
    "$$ \\vec{c}_{0} = (\\frac{4}{21}, -\\frac{13}{21}, -\\frac{16}{21}) $$"
   ]
  },
  {
   "cell_type": "markdown",
   "metadata": {},
   "source": [
    "Вычисляем по формуле "
   ]
  },
  {
   "cell_type": "markdown",
   "metadata": {},
   "source": [
    "$$ \\frac{\\partial f}{\\partial i} = \\frac{\\partial f}{\\partial x} * cos_{1} +  \\frac{\\partial f}{\\partial y} * cos_{2} + \\frac{\\partial f}{\\partial z} * cos_{3} $$"
   ]
  },
  {
   "cell_type": "markdown",
   "metadata": {},
   "source": [
    "$$ \\left.\\frac{U'}{\\vec{c}}\\right|L = (-32e^{441})*(\\frac{4}{21}) + 8e^{441} * -\\frac{13}{21} - 26e^{441} * (-\\frac{16}{21}) = \\frac{184}{21}e^{441} $$"
   ]
  }
 ],
 "metadata": {
  "kernelspec": {
   "display_name": "Python 3",
   "language": "python",
   "name": "python3"
  },
  "language_info": {
   "codemirror_mode": {
    "name": "ipython",
    "version": 3
   },
   "file_extension": ".py",
   "mimetype": "text/x-python",
   "name": "python",
   "nbconvert_exporter": "python",
   "pygments_lexer": "ipython3",
   "version": "3.7.6"
  }
 },
 "nbformat": 4,
 "nbformat_minor": 4
}
