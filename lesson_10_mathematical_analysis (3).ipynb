{
 "cells": [
  {
   "cell_type": "markdown",
   "metadata": {},
   "source": [
    "## Тема “Понятие об интеграле”"
   ]
  },
  {
   "cell_type": "markdown",
   "metadata": {},
   "source": [
    "### Найти неопределенный интеграл:"
   ]
  },
  {
   "cell_type": "markdown",
   "metadata": {},
   "source": [
    "$$ \\int (2x^{2}-2x-1+sin x - cos x + ln x + e^{x})dx = $$"
   ]
  },
  {
   "cell_type": "markdown",
   "metadata": {},
   "source": [
    "$$ 2\\int x^{2}dx - 2\\int xdx - \\int 1dx + \\int sin(x)dx -\\int cos(x)dx + \\int ln(x)dx + \\int e^{x}dx $$ "
   ]
  },
  {
   "cell_type": "markdown",
   "metadata": {},
   "source": [
    "$$ \\int x^{2}dx = \\frac{x^{n+1}}{n+1} + C = \\frac{x^{3}}{3} + C $$"
   ]
  },
  {
   "cell_type": "markdown",
   "metadata": {},
   "source": [
    "$$ \\int xdx = \\frac{x^{2}}{2} + C,~~~\\int 1dx = x + C,~~~\\int sin(x)dx = -cos(x)+C,~~~\\int cos(x)dx = sin(x)+C,~~~\\int ln(x)dx = xln(x)-x + C~~~\\int e^{x}dx = e^{x} + C $$"
   ]
  },
  {
   "cell_type": "markdown",
   "metadata": {},
   "source": [
    "$$ \\int (2x^{2}-2x-1+sin x - cos x + ln x + e^{x})dx = 2 * \\frac{x{3}}{3} - 2 * \\frac{x^{2}}{x} - x - cos(x) - sin(x) + xln(x) - x + e^{x} + C = $$"
   ]
  },
  {
   "cell_type": "markdown",
   "metadata": {},
   "source": [
    "$$ \\frac{2x^{3}}{3} - x^{2} - 1x - cos(x) - sin(x) + xln(x) + e^{x} + C $$"
   ]
  },
  {
   "cell_type": "markdown",
   "metadata": {},
   "source": [
    "### Найти неопределенный интеграл:"
   ]
  },
  {
   "cell_type": "markdown",
   "metadata": {},
   "source": [
    "$$ \\int (2x + 6xz^{2} - 5x^{2}y - 3lnz)dx = $$ "
   ]
  },
  {
   "cell_type": "markdown",
   "metadata": {},
   "source": [
    "$$ (6z^{2} + 2) \\int xdx - 5y \\int x^{2}dx - 3ln(x) \\int 1dx = $$"
   ]
  },
  {
   "cell_type": "markdown",
   "metadata": {},
   "source": [
    "$$ \\int xdx = \\frac{x^{2}}{2} + C,~~~\\int x^{2}dx = \\frac{x^{3}}{3} + C,~~~\\int 1dx = x + C $$ "
   ]
  },
  {
   "cell_type": "markdown",
   "metadata": {},
   "source": [
    "$$ \\int (2x + 6xz^{2} - 5x^{2}y - 3lnz)dx = \\frac{(6z^{2}+2)x^{2}}{2} - \\frac{5yx^{3}}{3} - 3ln(z)x + C $$ "
   ]
  },
  {
   "cell_type": "markdown",
   "metadata": {},
   "source": [
    "### Вычислить определенный интеграл:"
   ]
  },
  {
   "cell_type": "markdown",
   "metadata": {},
   "source": [
    "$$ \\int_{0}^{\\pi} 3x^{2} sin(2x)dx = F(b) - F(a) $$"
   ]
  },
  {
   "cell_type": "markdown",
   "metadata": {},
   "source": [
    "$$ \\int udv = uv - \\int vdu $$"
   ]
  },
  {
   "cell_type": "markdown",
   "metadata": {},
   "source": [
    "$$ u = x^{2} \\Rightarrow du = 2xdx~ (дифференциал~и~производная) $$"
   ]
  },
  {
   "cell_type": "markdown",
   "metadata": {},
   "source": [
    "$$ dv = 3sin(2x)dx \\Rightarrow v = \\int 3sin(2x)dx~(интегрируем)~~~ инеграл~ от~ sin~ -~ это~ -1/2~ cos $$"
   ]
  },
  {
   "cell_type": "markdown",
   "metadata": {},
   "source": [
    "$$ Подставляем~ хначения~ в~ формулу~ \\int udv = uv - \\int vdu $$"
   ]
  },
  {
   "cell_type": "markdown",
   "metadata": {},
   "source": [
    "$$ \\int_{0}^{\\pi} 2x^{2} sin(2x)dx = -3x^{2}\\frac{cos(2x)}{2} - \\int - 3x cos(2x)dx = 3x^{2}\\frac{cos(2x)}{2} + \\int 3x cos(2x)dx $$"
   ]
  },
  {
   "cell_type": "markdown",
   "metadata": {},
   "source": [
    "$$ Далее~ определим~ интеграл~ \\int 3x cos(2x)dx $$"
   ]
  },
  {
   "cell_type": "markdown",
   "metadata": {},
   "source": [
    "$$ u = x \\Rightarrow du = xdx~ (дифференциал~и~производная) $$"
   ]
  },
  {
   "cell_type": "markdown",
   "metadata": {},
   "source": [
    "$$ dv = 3cos(2x)dx \\Rightarrow v = \\int \\frac{3sin(2x)}{2}~(интегрируем) $$"
   ]
  },
  {
   "cell_type": "markdown",
   "metadata": {},
   "source": [
    "$$ \\int 3x cos(2x)dx = 3x \\frac{sin(2x)}{2} - \\int 3\\frac{sin(2x)}{2}dx $$"
   ]
  },
  {
   "cell_type": "markdown",
   "metadata": {},
   "source": [
    "$$ \\int 3\\frac{sin(2x)}{2}dx = - \\frac{3}{4} cos(2x) $$"
   ]
  },
  {
   "cell_type": "markdown",
   "metadata": {},
   "source": [
    "$$ \\int 3x cos(2x)dx = 3x \\frac{sin(2x)}{2} - (- \\frac{3}{4} cos(2x)) + C = 3x \\frac{sin(2x)}{2} + \\frac{3}{4} cos(2x) + C $$"
   ]
  },
  {
   "cell_type": "markdown",
   "metadata": {},
   "source": [
    " $$ \\int 3x^{2} sin(2x)dx = -3x^{2} \\frac{cos(2x)}{2} + 3x \\frac{sin(2x)}{2} + 3 \\frac{cos(2x)}{4} + C $$"
   ]
  },
  {
   "cell_type": "markdown",
   "metadata": {},
   "source": [
    "$$ \\int_{0}^{\\pi} 3x^{2} sin(2x)dx, ~~~F(\\pi) = -3 \\frac{\\pi^{2}}{2} = \\frac{3}{4},~~~ F(0) = \\frac{3}{4} $$"
   ]
  },
  {
   "cell_type": "markdown",
   "metadata": {},
   "source": [
    "Подставляем значения"
   ]
  },
  {
   "cell_type": "markdown",
   "metadata": {},
   "source": [
    "$$ \\int_{0}^{\\pi} 3x^{2} sin(2x)dx = -3 \\frac{\\pi^{2}}{2} + \\frac{3}{4} - \\frac{3}{4} = -3\\frac{\\pi^{2}}{2} $$"
   ]
  },
  {
   "cell_type": "markdown",
   "metadata": {},
   "source": [
    "### Найти неопределенный интеграл:"
   ]
  },
  {
   "cell_type": "markdown",
   "metadata": {},
   "source": [
    "$$ \\int \\frac{1}{\\sqrt{x+1}}dx $$"
   ]
  },
  {
   "cell_type": "markdown",
   "metadata": {},
   "source": [
    "Воспользуемся признаком замены выражения в знаменателе на переменную u, что бы далее избавиться от константы"
   ]
  },
  {
   "cell_type": "markdown",
   "metadata": {},
   "source": [
    "$$ u = x+1 \\Rightarrow dx = du \\int \\frac{1}{\\sqrt{x+1}}dx = \\int \\frac{1}{\\sqrt{x+1}}du $$"
   ]
  },
  {
   "cell_type": "markdown",
   "metadata": {},
   "source": [
    "Избавимся от числителя"
   ]
  },
  {
   "cell_type": "markdown",
   "metadata": {},
   "source": [
    "$$ \\int u^{n}du = \\frac{u^n+1}{n+1} $$"
   ]
  },
  {
   "cell_type": "markdown",
   "metadata": {},
   "source": [
    "$$ \\int \\frac{1}{\\sqrt{u}}du = 2\\sqrt{u} + C = 2 \\sqrt{x+1} = C $$"
   ]
  },
  {
   "cell_type": "markdown",
   "metadata": {},
   "source": [
    "подставим выражение x+1 обратно вместо u"
   ]
  },
  {
   "cell_type": "markdown",
   "metadata": {},
   "source": [
    "$$  \\int \\frac{1}{\\sqrt{x+1}}dx = 2\\sqrt{x+1} = C $$"
   ]
  }
 ],
 "metadata": {
  "kernelspec": {
   "display_name": "Python 3",
   "language": "python",
   "name": "python3"
  },
  "language_info": {
   "codemirror_mode": {
    "name": "ipython",
    "version": 3
   },
   "file_extension": ".py",
   "mimetype": "text/x-python",
   "name": "python",
   "nbconvert_exporter": "python",
   "pygments_lexer": "ipython3",
   "version": "3.7.6"
  }
 },
 "nbformat": 4,
 "nbformat_minor": 4
}
