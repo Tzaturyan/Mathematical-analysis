{
 "cells": [
  {
   "cell_type": "markdown",
   "metadata": {},
   "source": [
    "# Тема 3 “Последовательность”"
   ]
  },
  {
   "cell_type": "markdown",
   "metadata": {},
   "source": [
    "## Как связаны между собой понятия последовательности и множества?\n",
    "\n",
    "Множеством является совокупность произвольного числа элементов. Понятия множества и последовательности связаны тем, что последовательность это упорядоченное множество, и любое множество можно вполне упорядочить"
   ]
  },
  {
   "cell_type": "markdown",
   "metadata": {},
   "source": [
    "## Даны 4 последовательности. Необходимо:\n"
   ]
  },
  {
   "cell_type": "markdown",
   "metadata": {},
   "source": [
    "исследовать их на монотонность; \n",
    "исследовать на ограниченность;\n",
    "найти пятый по счету член последовательности.\n"
   ]
  },
  {
   "cell_type": "markdown",
   "metadata": {},
   "source": [
    "$$ \\lbrace  a_{n} \\rbrace _n=1^\\infty = 2n - n    $$"
   ]
  },
  {
   "cell_type": "markdown",
   "metadata": {},
   "source": [
    "$$ \\lbrace  b_{n} \\rbrace _n=2^\\infty = \\frac{1}{1-n} $$"
   ]
  },
  {
   "cell_type": "markdown",
   "metadata": {},
   "source": [
    "$$ \\lbrace  c_{n} \\rbrace _n=1^\\infty = -1^{n} + \\sqrt{2n} $$"
   ]
  },
  {
   "cell_type": "markdown",
   "metadata": {},
   "source": [
    "$$ \\lbrace  d_{n} \\rbrace _n=1^\\infty = (-1)^{2n} + \\frac{1}{n^{2}} $$"
   ]
  },
  {
   "cell_type": "markdown",
   "metadata": {},
   "source": [
    "1) $$ \\lbrace  a_{n} \\rbrace _n=1^\\infty = 2n - n $$"
   ]
  },
  {
   "cell_type": "markdown",
   "metadata": {},
   "source": [
    "Для исследования для монотонности возьмем разность $$ a_{n+1} - a_{n} $$"
   ]
  },
  {
   "cell_type": "markdown",
   "metadata": {},
   "source": [
    "\n",
    "$$ 2_{n+1} - a_{n} = a^{n+1} - (n+1) - 2^{n} + n = 2_{n+1} - n - 1 - 2^{n} + n = 2^{n}(2-1) - 1 = 2^{n} - 1 > 0 $$"
   ]
  },
  {
   "cell_type": "markdown",
   "metadata": {},
   "source": [
    "Это выражение больше нуля для всех n>=1 натуральных, то есть это монотонно возрастающая последовательность. "
   ]
  },
  {
   "cell_type": "markdown",
   "metadata": {},
   "source": [
    "Далее исследуем на ограниченность"
   ]
  },
  {
   "cell_type": "markdown",
   "metadata": {},
   "source": [
    "Нижней границей последовательности будет значение первого по счету элемента при n=1 $$ a_{1}=2^{1}-1=1,$$ а так как последовательность возрастает и $$ 2^{n}-n =\\infty, $$ то сверху последовательность не ограничена. "
   ]
  },
  {
   "cell_type": "markdown",
   "metadata": {},
   "source": [
    "Пятый по счету элемент будет при n=5 $$ a^{5} = 2^{5} - 5 = 32-5=27 $$"
   ]
  },
  {
   "cell_type": "markdown",
   "metadata": {},
   "source": [
    "2) $$ \\lbrace  c_{n} \\rbrace _n=1^\\infty = -1^{n} + \\sqrt{2n} $$"
   ]
  },
  {
   "cell_type": "markdown",
   "metadata": {},
   "source": [
    "Для исследования для монотонности возьмем разность $$ b_{n+1} - b_{n} = $$"
   ]
  },
  {
   "cell_type": "markdown",
   "metadata": {},
   "source": [
    "$$ \\frac{1}{1-(n+1)} - \\frac{1}{1-n} = \\frac{1-n-(1-n-1)}{(1-n-1)(1-n)} = \\frac{1-n-1+n+1}{-n(1-n)} = \\frac{1}{n(n-1)} > 0 $$"
   ]
  },
  {
   "cell_type": "markdown",
   "metadata": {},
   "source": [
    "Это высказывание будет больше нуля при заданных n>=2, то есть последовательность монотонно возрастает"
   ]
  },
  {
   "cell_type": "markdown",
   "metadata": {},
   "source": [
    "Далее исследуем на ограниченность"
   ]
  },
  {
   "cell_type": "markdown",
   "metadata": {},
   "source": [
    "$$ \\frac{1}{n(n-1)} = 0 $$"
   ]
  },
  {
   "cell_type": "markdown",
   "metadata": {},
   "source": [
    "Ограничением снизу будет значение при n=2"
   ]
  },
  {
   "cell_type": "markdown",
   "metadata": {},
   "source": [
    "$$ b_{1} = \\frac{1}{1-2} = -1 $$"
   ]
  },
  {
   "cell_type": "markdown",
   "metadata": {},
   "source": [
    "Последовательность ограничена на интервале [-1, 0)"
   ]
  },
  {
   "cell_type": "markdown",
   "metadata": {},
   "source": [
    "Пятым по счету членом последовательности будет значение при n=6"
   ]
  },
  {
   "cell_type": "markdown",
   "metadata": {},
   "source": [
    "$$ b_{6} = \\frac{1}{1-6} = -0.2 $$"
   ]
  },
  {
   "cell_type": "markdown",
   "metadata": {},
   "source": [
    "3) $$ \\lbrace  c_{n} \\rbrace _n=1^\\infty = -1^{n} + \\sqrt{2n} $$"
   ]
  },
  {
   "cell_type": "markdown",
   "metadata": {},
   "source": [
    "Для исследования для монотонности возьмем разность $$ c_{n+1} - c_{n} = $$"
   ]
  },
  {
   "cell_type": "markdown",
   "metadata": {},
   "source": [
    "$$ -1 + \\sqrt{2(n+1)} - (-1 + \\sqrt{2n} = -1 + \\sqrt{2(n+1)} +1 - \\sqrt{2n} = \\sqrt{2}(\\sqrt{n+1} - \\sqrt{n}) > 0 $$"
   ]
  },
  {
   "cell_type": "markdown",
   "metadata": {},
   "source": [
    "Последовательность монотонно возрастает"
   ]
  },
  {
   "cell_type": "markdown",
   "metadata": {},
   "source": [
    "Далее исследуем на ограниченность"
   ]
  },
  {
   "cell_type": "markdown",
   "metadata": {},
   "source": [
    "Ограничение последовательность имеет только снизу при n=1"
   ]
  },
  {
   "cell_type": "markdown",
   "metadata": {},
   "source": [
    "$$ c_{1} = -1 + \\sqrt{2} = 0.4 $$"
   ]
  },
  {
   "cell_type": "markdown",
   "metadata": {},
   "source": [
    "Пятый по счету член последовательности"
   ]
  },
  {
   "cell_type": "markdown",
   "metadata": {},
   "source": [
    "$$ c_{5} = -1 + \\sqrt{10} = 2.2 $$"
   ]
  },
  {
   "cell_type": "markdown",
   "metadata": {},
   "source": [
    "4) $$ \\lbrace  d_{n} \\rbrace _n=1^\\infty = (-1)^{2n} + \\frac{1}{n^{2}} $$"
   ]
  },
  {
   "cell_type": "markdown",
   "metadata": {},
   "source": [
    "Для исследования для монотонности возьмем разность $$ d_{n+1} - d_{n} = $$"
   ]
  },
  {
   "cell_type": "markdown",
   "metadata": {},
   "source": [
    "$$ 1 + \\frac{1}{(n+1)^{2}} =  \\frac{n^{2}-(n^{2}+2n+1)}{n^{2}(n+1)^{2}} = \\frac{-2n-1}{n^{2}(n+1)^{2}} < 0 $$"
   ]
  },
  {
   "cell_type": "markdown",
   "metadata": {},
   "source": [
    "Последовательность монотонно убывающая"
   ]
  },
  {
   "cell_type": "markdown",
   "metadata": {},
   "source": [
    "Далее исследуем на ограниченность"
   ]
  },
  {
   "cell_type": "markdown",
   "metadata": {},
   "source": [
    "$$ 1 + \\frac{1}{(n+1)^{2}} = 1 $$"
   ]
  },
  {
   "cell_type": "markdown",
   "metadata": {},
   "source": [
    "Ограничением сверху будет являться значение последовательности при n=1"
   ]
  },
  {
   "cell_type": "markdown",
   "metadata": {},
   "source": [
    "$$ d_{1} = 1+1=2 $$"
   ]
  },
  {
   "cell_type": "markdown",
   "metadata": {},
   "source": [
    "Последовательность ограничена на интервале [-1, 0)"
   ]
  },
  {
   "cell_type": "markdown",
   "metadata": {},
   "source": [
    "Пятым по счету членом последовательности будет значение при n=5"
   ]
  },
  {
   "cell_type": "markdown",
   "metadata": {},
   "source": [
    "$$ d_{5} = 1+ \\frac{1}{25} = \\frac{26}{25} $$"
   ]
  },
  {
   "cell_type": "markdown",
   "metadata": {},
   "source": [
    "## Найти 12-й член заданной неявно последовательности"
   ]
  },
  {
   "cell_type": "markdown",
   "metadata": {},
   "source": [
    "$$ a_{1} = 128, d_{n}+1-a_{n}=6 $$"
   ]
  },
  {
   "cell_type": "code",
   "execution_count": 5,
   "metadata": {},
   "outputs": [
    {
     "name": "stdout",
     "output_type": "stream",
     "text": [
      "a12: 194\n"
     ]
    }
   ],
   "source": [
    "a1 = 128\n",
    "p = 6\n",
    "\n",
    "# a(n) = a1 + (n - 1) * p\n",
    "\n",
    "a12 = a1 + (12 - 1) * p\n",
    "\n",
    "print(f'a12: {a12}')"
   ]
  },
  {
   "cell_type": "markdown",
   "metadata": {},
   "source": [
    "## На языке Python предложить алгоритм вычисляющий численно предел с точностью $$ \\epsilon = 10^{-7} $$"
   ]
  },
  {
   "cell_type": "code",
   "execution_count": 8,
   "metadata": {},
   "outputs": [],
   "source": [
    "from sympy import limit, factorial, oo\n",
    "import sympy"
   ]
  },
  {
   "cell_type": "code",
   "execution_count": 9,
   "metadata": {},
   "outputs": [
    {
     "data": {
      "text/latex": [
       "$\\displaystyle \\infty$"
      ],
      "text/plain": [
       "oo"
      ]
     },
     "execution_count": 9,
     "metadata": {},
     "output_type": "execute_result"
    }
   ],
   "source": [
    "n = 1\n",
    "limit(n/(factorial(n)**(1/n)), n, oo)"
   ]
  },
  {
   "cell_type": "markdown",
   "metadata": {},
   "source": [
    "### SymPy"
   ]
  },
  {
   "cell_type": "code",
   "execution_count": 10,
   "metadata": {},
   "outputs": [],
   "source": [
    "def function(n):\n",
    "  return n/(factorial(n)**(1/n))"
   ]
  },
  {
   "cell_type": "code",
   "execution_count": 11,
   "metadata": {},
   "outputs": [],
   "source": [
    "def function_s(n):\n",
    "  return n/(sympy.factorial(n)**(1/n))"
   ]
  },
  {
   "cell_type": "code",
   "execution_count": 12,
   "metadata": {},
   "outputs": [],
   "source": [
    "epsilon = 10e-7\n",
    "delta = 1\n",
    "n = 1\n",
    "curr = function(1)\n",
    "step = 1"
   ]
  },
  {
   "cell_type": "code",
   "execution_count": 13,
   "metadata": {},
   "outputs": [],
   "source": [
    "while delta > epsilon:\n",
    "  next = function_s(n+1)\n",
    "  delta = abs(curr - next)\n",
    "  curr = next\n",
    "  n += step"
   ]
  },
  {
   "cell_type": "code",
   "execution_count": 14,
   "metadata": {},
   "outputs": [
    {
     "name": "stdout",
     "output_type": "stream",
     "text": [
      "3495 9.99923936539915e-7\n",
      "Текущее значение предела: 2.71439695339699\n"
     ]
    }
   ],
   "source": [
    "print(n, delta)\n",
    "print(f\"Текущее значение предела: {curr}\")"
   ]
  },
  {
   "cell_type": "markdown",
   "metadata": {},
   "source": [
    "### Теорема Штольца"
   ]
  },
  {
   "cell_type": "code",
   "execution_count": 15,
   "metadata": {},
   "outputs": [],
   "source": [
    "def stolz_theorem(n):\n",
    "  return 1/(sympy.factorial(n)**(1/n)-sympy.factorial(n-1)**(1/(n-1)))"
   ]
  },
  {
   "cell_type": "code",
   "execution_count": 16,
   "metadata": {},
   "outputs": [],
   "source": [
    "epsilon = 10e-7\n",
    "delta = 1\n",
    "n = 2\n",
    "curr = stolz_theorem(2)\n",
    "step = 1"
   ]
  },
  {
   "cell_type": "code",
   "execution_count": 17,
   "metadata": {},
   "outputs": [],
   "source": [
    "while delta > epsilon:\n",
    "  next = stolz_theorem(n+1)\n",
    "  delta = abs(curr - next)\n",
    "  curr = next\n",
    "  n += step"
   ]
  },
  {
   "cell_type": "code",
   "execution_count": 18,
   "metadata": {},
   "outputs": [
    {
     "name": "stdout",
     "output_type": "stream",
     "text": [
      "1153 9.99185107097844e-7\n",
      "Текущее значение предела: 2.71711890243040\n"
     ]
    }
   ],
   "source": [
    "print(n, delta)\n",
    "print(f\"Текущее значение предела: {curr}\")"
   ]
  }
 ],
 "metadata": {
  "kernelspec": {
   "display_name": "Python 3",
   "language": "python",
   "name": "python3"
  },
  "language_info": {
   "codemirror_mode": {
    "name": "ipython",
    "version": 3
   },
   "file_extension": ".py",
   "mimetype": "text/x-python",
   "name": "python",
   "nbconvert_exporter": "python",
   "pygments_lexer": "ipython3",
   "version": "3.7.6"
  }
 },
 "nbformat": 4,
 "nbformat_minor": 4
}
